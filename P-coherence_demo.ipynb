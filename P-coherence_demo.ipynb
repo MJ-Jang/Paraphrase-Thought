{
 "cells": [
  {
   "cell_type": "code",
   "execution_count": 1,
   "metadata": {
    "collapsed": true
   },
   "outputs": [],
   "source": [
    "# for hide warning messages\n",
    "import warnings\n",
    "warnings.filterwarnings(action='ignore')"
   ]
  },
  {
   "cell_type": "code",
   "execution_count": 2,
   "metadata": {
    "collapsed": true
   },
   "outputs": [],
   "source": [
    "# import\n",
    "from Pthougt_encode import Pthought_vec\n",
    "import tensorflow as tf\n",
    "import numpy as np\n",
    "import pandas as pd\n",
    "from sklearn.metrics.pairwise import cosine_similarity as cs"
   ]
  },
  {
   "cell_type": "markdown",
   "metadata": {},
   "source": [
    "## Glove path and Load data "
   ]
  },
  {
   "cell_type": "code",
   "execution_count": 3,
   "metadata": {
    "collapsed": true
   },
   "outputs": [],
   "source": [
    "glove_path = \"D:/glove.840B.300d.txt\"\n",
    "word_emb_dim = 300\n",
    "\n",
    "set_tst = pd.read_csv(\"./data/2017val.csv\")\n",
    "cap = np.array(set_tst['caption'])\n",
    "img_id = set_tst['image_id']\n",
    "uniq_id = np.unique(img_id)"
   ]
  },
  {
   "cell_type": "markdown",
   "metadata": {},
   "source": [
    "## Build vocabulary "
   ]
  },
  {
   "cell_type": "code",
   "execution_count": 4,
   "metadata": {},
   "outputs": [
    {
     "name": "stdout",
     "output_type": "stream",
     "text": [
      "placeholders created !\n",
      "encoder created !\n",
      "Found 8414(/8641) words with glove vectors\n",
      "Vocab size : 8414\n"
     ]
    }
   ],
   "source": [
    "sess = tf.Session()\n",
    "model = Pthought_vec(1200,2,300,bi_direction=False)\n",
    "model.set_glove_path(glove_path)\n",
    "model.build_vocab(cap,tokenize = True)"
   ]
  },
  {
   "cell_type": "markdown",
   "metadata": {},
   "source": [
    "## Load encoder (two-layer Forward RNN encoder)"
   ]
  },
  {
   "cell_type": "code",
   "execution_count": 5,
   "metadata": {},
   "outputs": [
    {
     "name": "stdout",
     "output_type": "stream",
     "text": [
      "INFO:tensorflow:Restoring parameters from ./model/two_forward/Pthought_net.ckpt\n"
     ]
    }
   ],
   "source": [
    "model.enc_saver()\n",
    "model.load_enc(model_path= './model/two_forward',model_name=\"Pthought_net.ckpt\",sess=sess)"
   ]
  },
  {
   "cell_type": "markdown",
   "metadata": {},
   "source": [
    "## Generate sentence vector "
   ]
  },
  {
   "cell_type": "code",
   "execution_count": 6,
   "metadata": {
    "collapsed": true
   },
   "outputs": [],
   "source": [
    "total = model.encode(sess, cap, tokenize = True)"
   ]
  },
  {
   "cell_type": "markdown",
   "metadata": {},
   "source": [
    "## Calculate P-coherence "
   ]
  },
  {
   "cell_type": "code",
   "execution_count": 7,
   "metadata": {
    "collapsed": true
   },
   "outputs": [],
   "source": [
    "coherence = []\n",
    "for i in range(len(uniq_id)):\n",
    "    # inner\n",
    "    tmp_id = np.where(img_id == uniq_id[i])[0]\n",
    "    coherence_vec = np.take(total, tmp_id, 0)\n",
    "    dist_coherence = cs(coherence_vec)\n",
    "    mean_coherence = (np.sum(dist_coherence) - len(dist_coherence)) / (len(dist_coherence) * len(dist_coherence) - len(dist_coherence))\n",
    "    coherence.append(mean_coherence)"
   ]
  },
  {
   "cell_type": "code",
   "execution_count": 8,
   "metadata": {},
   "outputs": [
    {
     "name": "stdout",
     "output_type": "stream",
     "text": [
      "P-coherence : 0.790\n"
     ]
    }
   ],
   "source": [
    "print(\"P-coherence : %.3f\" %(np.mean(coherence)))"
   ]
  },
  {
   "cell_type": "code",
   "execution_count": null,
   "metadata": {
    "collapsed": true
   },
   "outputs": [],
   "source": []
  }
 ],
 "metadata": {
  "kernelspec": {
   "display_name": "Python 3",
   "language": "python",
   "name": "python3"
  },
  "language_info": {
   "codemirror_mode": {
    "name": "ipython",
    "version": 3
   },
   "file_extension": ".py",
   "mimetype": "text/x-python",
   "name": "python",
   "nbconvert_exporter": "python",
   "pygments_lexer": "ipython3",
   "version": "3.6.1"
  }
 },
 "nbformat": 4,
 "nbformat_minor": 2
}
