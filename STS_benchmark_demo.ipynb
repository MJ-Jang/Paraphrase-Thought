{
 "cells": [
  {
   "cell_type": "code",
   "execution_count": 1,
   "metadata": {
    "collapsed": true
   },
   "outputs": [],
   "source": [
    "# for hide warning messages\n",
    "import warnings\n",
    "warnings.filterwarnings(action='ignore')"
   ]
  },
  {
   "cell_type": "code",
   "execution_count": 2,
   "metadata": {
    "collapsed": true
   },
   "outputs": [],
   "source": [
    "# import\n",
    "from Pthougt_encode import Pthought_vec\n",
    "from STS_function import *\n",
    "import tensorflow as tf\n",
    "import numpy as np\n",
    "import pandas as pd\n",
    "from scipy.stats import pearsonr, spearmanr\n",
    "import csv\n",
    "import matplotlib.pyplot as plt"
   ]
  },
  {
   "cell_type": "markdown",
   "metadata": {},
   "source": [
    "## Load encoder (two-layer Forward RNN encoder) "
   ]
  },
  {
   "cell_type": "code",
   "execution_count": 3,
   "metadata": {},
   "outputs": [
    {
     "name": "stdout",
     "output_type": "stream",
     "text": [
      "placeholders created !\n",
      "encoder created !\n",
      "INFO:tensorflow:Restoring parameters from ./model/two_forward/Pthought_net.ckpt\n"
     ]
    }
   ],
   "source": [
    "glove_path = \"D:/glove.840B.300d.txt\"\n",
    "word_emb_dim = 300\n",
    "\n",
    "sess = tf.Session()\n",
    "model = Pthought_vec(1200,2,300,bi_direction=False)\n",
    "model.set_glove_path(glove_path)\n",
    "model.enc_saver()\n",
    "model.load_enc(model_path= './model/two_forward',model_name=\"Pthought_net.ckpt\",sess=sess)"
   ]
  },
  {
   "cell_type": "markdown",
   "metadata": {},
   "source": [
    "## Generate sentence vectors "
   ]
  },
  {
   "cell_type": "code",
   "execution_count": 4,
   "metadata": {},
   "outputs": [
    {
     "name": "stdout",
     "output_type": "stream",
     "text": [
      "Found 10530(/10906) words with glove vectors\n",
      "Vocab size : 10530\n",
      "Found 10564(/10969) words with glove vectors\n",
      "Vocab size : 10564\n"
     ]
    }
   ],
   "source": [
    "# training data\n",
    "train = pd.read_csv(\"./data/STS/sts-train.csv\",sep=\"\\t\",error_bad_lines=False,\n",
    "                    warn_bad_lines=False,header=None,quoting=csv.QUOTE_NONE)\n",
    "\n",
    "tr_A = np.array(train[5])\n",
    "tr_B = np.array(train[6])\n",
    "tr_Y = np.array(train[4],dtype=float)\n",
    "\n",
    "model.build_vocab(tr_A,tokenize = True)\n",
    "tr_A = model.encode(sess, tr_A, tokenize = True)\n",
    "\n",
    "model.build_vocab(tr_B,tokenize = True)\n",
    "tr_B = model.encode(sess,tr_B, tokenize=True)\n",
    "\n",
    "abs_tr = np.abs(tr_A - tr_B)\n",
    "dot_tr = np.multiply(tr_A,tr_B)\n",
    "tr_X = np.c_[abs_tr,dot_tr]"
   ]
  },
  {
   "cell_type": "code",
   "execution_count": 5,
   "metadata": {},
   "outputs": [
    {
     "name": "stdout",
     "output_type": "stream",
     "text": [
      "Found 3655(/3717) words with glove vectors\n",
      "Vocab size : 3655\n",
      "Found 3559(/3616) words with glove vectors\n",
      "Vocab size : 3559\n"
     ]
    }
   ],
   "source": [
    "# test data\n",
    "test = pd.read_csv(\"./data/STS/sts-test.csv\",sep=\"\\t\",error_bad_lines=False,\n",
    "                   warn_bad_lines=False,header=None,quoting=csv.QUOTE_NONE)\n",
    "tst_A = np.array(test[5])\n",
    "tst_B = np.array(test[6])\n",
    "tst_Y = np.array(test[4],dtype=float)\n",
    "\n",
    "model.set_glove_path(glove_path)\n",
    "model.build_vocab(tst_A,tokenize = True)\n",
    "tst_A = model.encode(sess, tst_A, tokenize = True)\n",
    "\n",
    "model.build_vocab(tst_B,tokenize = True)\n",
    "tst_B = model.encode(sess,tst_B, tokenize=True)\n",
    "abs_tst = np.abs(tst_A - tst_B)\n",
    "dot_tst = np.multiply(tst_A,tst_B)\n",
    "tst_X = np.c_[abs_tst,dot_tst]"
   ]
  },
  {
   "cell_type": "code",
   "execution_count": 6,
   "metadata": {},
   "outputs": [
    {
     "name": "stdout",
     "output_type": "stream",
     "text": [
      "Found 5029(/5117) words with glove vectors\n",
      "Vocab size : 5029\n",
      "Found 4996(/5095) words with glove vectors\n",
      "Vocab size : 4996\n"
     ]
    }
   ],
   "source": [
    "# development data\n",
    "dev = pd.read_csv(\"C:/Users/MJ/Desktop/stsbenchmark/sts-dev.csv\",sep=\"\\t\",error_bad_lines=False,\n",
    "                  warn_bad_lines=False,header=None,quoting=csv.QUOTE_NONE)\n",
    "dev_A = np.array(dev[5])\n",
    "dev_B = np.array(dev[6])\n",
    "dev_Y = np.array(dev[4],dtype=float)\n",
    "\n",
    "model.build_vocab(dev_A,tokenize = True)\n",
    "dev_A = model.encode(sess, dev_A, tokenize = True)\n",
    "\n",
    "model.build_vocab(dev_B,tokenize = True)\n",
    "dev_B = model.encode(sess,dev_B, tokenize=True)\n",
    "\n",
    "abs_dev = np.abs(dev_A - dev_B)\n",
    "dot_dev = np.multiply(dev_A,dev_B)\n",
    "dev_X = np.c_[abs_dev,dot_dev]"
   ]
  },
  {
   "cell_type": "markdown",
   "metadata": {},
   "source": [
    "## Train Linear model"
   ]
  },
  {
   "cell_type": "code",
   "execution_count": 7,
   "metadata": {},
   "outputs": [
    {
     "name": "stdout",
     "output_type": "stream",
     "text": [
      "Pearson cor: 0.796288842004 Spearman cor: 0.765617743414\n"
     ]
    }
   ],
   "source": [
    "yhat_tst = Logistic_Reg(tr_X,tr_Y,dev_X,dev_Y,tst_X,tst_Y)\n",
    "print(\"Pearson cor:\",pearsonr(yhat_tst,tst_Y)[0], \"Spearman cor:\",spearmanr(yhat_tst,tst_Y)[0])"
   ]
  },
  {
   "cell_type": "markdown",
   "metadata": {},
   "source": [
    "## Visualize scatter plot"
   ]
  },
  {
   "cell_type": "code",
   "execution_count": 8,
   "metadata": {},
   "outputs": [
    {
     "data": {
      "image/png": "[encoded data removed]",
      "text/plain": [
       "<Figure size 432x288 with 2 Axes>"
      ]
     },
     "metadata": {},
     "output_type": "display_data"
    }
   ],
   "source": [
    "# Scatter plot\n",
    "df = pd.DataFrame( np.c_[yhat_tst,tst_Y], columns=['Pred',\"Truth\"])\n",
    "ax = df.plot.hexbin(x='Pred',y=\"Truth\",gridsize=20)\n",
    "ax.text(1, 4.8, r'pearsonr = %.3f, spearmanr = %.3f' % (pearsonr(yhat_tst,tst_Y)[0],spearmanr(yhat_tst,tst_Y)[0]))\n",
    "ax.set_facecolor('white')\n",
    "plt.show()"
   ]
  },
  {
   "cell_type": "code",
   "execution_count": null,
   "metadata": {
    "collapsed": true
   },
   "outputs": [],
   "source": []
  }
 ],
 "metadata": {
  "kernelspec": {
   "display_name": "Python 3",
   "language": "python",
   "name": "python3"
  },
  "language_info": {
   "codemirror_mode": {
    "name": "ipython",
    "version": 3
   },
   "file_extension": ".py",
   "mimetype": "text/x-python",
   "name": "python",
   "nbconvert_exporter": "python",
   "pygments_lexer": "ipython3",
   "version": "3.6.1"
  }
 },
 "nbformat": 4,
 "nbformat_minor": 2
}
